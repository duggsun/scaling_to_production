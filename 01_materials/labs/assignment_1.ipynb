{
 "cells": [
  {
   "cell_type": "markdown",
   "metadata": {},
   "source": [
    "# Working with parquet files\n",
    "\n",
    "## Objective\n",
    "\n",
    "+ In this assignment, we will use the data downloaded with the module `data_manager` to create features.\n",
    "\n",
    "(11 pts total)\n",
    "\n",
    "## Prerequisites\n",
    "\n",
    "+ This notebook assumes that price data is available to you in the environment variable `PRICE_DATA`. If you have not done so, then execute the notebook `production_2_data_engineering.ipynb` to create this data set.\n"
   ]
  },
  {
   "cell_type": "markdown",
   "metadata": {},
   "source": [
    "+ Load the environment variables using dotenv. (1 pt)"
   ]
  },
  {
   "cell_type": "code",
   "execution_count": 15,
   "metadata": {},
   "outputs": [
    {
     "name": "stdout",
     "output_type": "stream",
     "text": [
      "The dotenv extension is already loaded. To reload it, use:\n",
      "  %reload_ext dotenv\n"
     ]
    }
   ],
   "source": [
    "# Write your code below.\n",
    "%load_ext dotenv\n",
    "%dotenv"
   ]
  },
  {
   "cell_type": "code",
   "execution_count": 16,
   "metadata": {},
   "outputs": [],
   "source": [
    "import dask\n",
    "dask.config.set({'dataframe.query-planning': True})\n",
    "import dask.dataframe as dd"
   ]
  },
  {
   "cell_type": "markdown",
   "metadata": {},
   "source": [
    "+ Load the environment variable `PRICE_DATA`.\n",
    "+ Use [glob](https://docs.python.org/3/library/glob.html) to find the path of all parquet files in the directory `PRICE_DATA`.\n",
    "\n",
    "(1pt)"
   ]
  },
  {
   "cell_type": "code",
   "execution_count": 17,
   "metadata": {},
   "outputs": [
    {
     "data": {
      "text/plain": [
       "<dask_expr.expr.DataFrame: expr=ReadParquet(3e7ffa9)>"
      ]
     },
     "execution_count": 17,
     "metadata": {},
     "output_type": "execute_result"
    }
   ],
   "source": [
    "import os\n",
    "from glob import glob\n",
    "\n",
    "# Write your code below.\n",
    "PRICE_DATA = os.getenv(\"PRICE_DATA\")\n",
    "PRICE_DATA\n",
    "\n",
    "\n",
    "parquet_files = glob(os.path.join(PRICE_DATA, \"*/*/*.parquet\"))\n",
    "#parquet_files[:5]\n",
    "dd_px = dd.read_parquet(parquet_files).set_index(\"ticker\")\n",
    "dd_px\n"
   ]
  },
  {
   "cell_type": "markdown",
   "metadata": {},
   "source": [
    "For each ticker and using Dask, do the following:\n",
    "\n",
    "+ Add lags for variables Close and Adj_Close.\n",
    "+ Add returns based on Adjusted Close:\n",
    "    \n",
    "    - `returns`: (Adj Close / Adj Close_lag) - 1\n",
    "\n",
    "+ Add the following range: \n",
    "\n",
    "    - `hi_lo_range`: this is the day's High minus Low.\n",
    "\n",
    "+ Assign the result to `dd_feat`.\n",
    "\n",
    "(4 pt)"
   ]
  },
  {
   "cell_type": "code",
   "execution_count": 18,
   "metadata": {},
   "outputs": [
    {
     "name": "stderr",
     "output_type": "stream",
     "text": [
      "C:\\Users\\dugga\\AppData\\Local\\Temp\\ipykernel_3400\\777055813.py:3: UserWarning: `meta` is not specified, inferred from partial data. Please provide `meta` if the result is unexpected.\n",
      "  Before: .apply(func)\n",
      "  After:  .apply(func, meta={'x': 'f8', 'y': 'f8'}) for dataframe result\n",
      "  or:     .apply(func, meta=('x', 'f8'))            for series result\n",
      "  dd_feat = (dd_px.groupby('ticker', group_keys=False).apply(\n"
     ]
    }
   ],
   "source": [
    "# Write your code below.\n",
    "import numpy as np\n",
    "dd_feat = (dd_px.groupby('ticker', group_keys=False).apply(\n",
    "    lambda x: x.assign(Close_lag_1 = x['Close'].shift(1))\n",
    ").assign(    \n",
    "    returns = lambda x: x['Close']/x['Close_lag_1'] - 1\n",
    ").assign(\n",
    "    hi_lo_range = lambda x: (x['High'] - x['Low'])\n",
    "))\n"
   ]
  },
  {
   "cell_type": "code",
   "execution_count": 19,
   "metadata": {},
   "outputs": [
    {
     "data": {
      "text/plain": [
       "<dask_expr.expr.DataFrame: expr=Assign(frame=Assign(frame=Assign(frame=Assign(frame=Assign(frame=Assign(frame=GroupByApply(frame=ReadParquet(3e7ffa9), observed=False, group_keys=False, func=<function <lambda> at 0x00000240E0D69A60>, meta=_NoDefault.no_default, args=(), kwargs={})))))))>"
      ]
     },
     "execution_count": 19,
     "metadata": {},
     "output_type": "execute_result"
    }
   ],
   "source": [
    "dd_feat"
   ]
  },
  {
   "cell_type": "code",
   "execution_count": 20,
   "metadata": {},
   "outputs": [
    {
     "data": {
      "text/html": [
       "<div>\n",
       "<style scoped>\n",
       "    .dataframe tbody tr th:only-of-type {\n",
       "        vertical-align: middle;\n",
       "    }\n",
       "\n",
       "    .dataframe tbody tr th {\n",
       "        vertical-align: top;\n",
       "    }\n",
       "\n",
       "    .dataframe thead th {\n",
       "        text-align: right;\n",
       "    }\n",
       "</style>\n",
       "<table border=\"1\" class=\"dataframe\">\n",
       "  <thead>\n",
       "    <tr style=\"text-align: right;\">\n",
       "      <th></th>\n",
       "      <th>Date</th>\n",
       "      <th>Open</th>\n",
       "      <th>High</th>\n",
       "      <th>Low</th>\n",
       "      <th>Close</th>\n",
       "      <th>Adj Close</th>\n",
       "      <th>Volume</th>\n",
       "      <th>sector</th>\n",
       "      <th>subsector</th>\n",
       "      <th>year</th>\n",
       "      <th>Close_lag_1</th>\n",
       "      <th>returns</th>\n",
       "      <th>hi_lo_range</th>\n",
       "    </tr>\n",
       "    <tr>\n",
       "      <th>ticker</th>\n",
       "      <th></th>\n",
       "      <th></th>\n",
       "      <th></th>\n",
       "      <th></th>\n",
       "      <th></th>\n",
       "      <th></th>\n",
       "      <th></th>\n",
       "      <th></th>\n",
       "      <th></th>\n",
       "      <th></th>\n",
       "      <th></th>\n",
       "      <th></th>\n",
       "      <th></th>\n",
       "    </tr>\n",
       "  </thead>\n",
       "  <tbody>\n",
       "    <tr>\n",
       "      <th>GRMN</th>\n",
       "      <td>2009-01-02</td>\n",
       "      <td>19.000000</td>\n",
       "      <td>22.000000</td>\n",
       "      <td>19.000000</td>\n",
       "      <td>21.770000</td>\n",
       "      <td>12.750558</td>\n",
       "      <td>1884800</td>\n",
       "      <td>Consumer Discretionary</td>\n",
       "      <td>Consumer Electronics</td>\n",
       "      <td>2009</td>\n",
       "      <td>NaN</td>\n",
       "      <td>NaN</td>\n",
       "      <td>3.000000</td>\n",
       "    </tr>\n",
       "    <tr>\n",
       "      <th>GRMN</th>\n",
       "      <td>2009-01-05</td>\n",
       "      <td>20.830000</td>\n",
       "      <td>22.040001</td>\n",
       "      <td>20.750000</td>\n",
       "      <td>22.000000</td>\n",
       "      <td>12.885260</td>\n",
       "      <td>1897500</td>\n",
       "      <td>Consumer Discretionary</td>\n",
       "      <td>Consumer Electronics</td>\n",
       "      <td>2009</td>\n",
       "      <td>21.770000</td>\n",
       "      <td>0.010565</td>\n",
       "      <td>1.290001</td>\n",
       "    </tr>\n",
       "    <tr>\n",
       "      <th>GRMN</th>\n",
       "      <td>2009-01-06</td>\n",
       "      <td>20.500000</td>\n",
       "      <td>21.250000</td>\n",
       "      <td>19.700001</td>\n",
       "      <td>21.090000</td>\n",
       "      <td>12.352277</td>\n",
       "      <td>3074400</td>\n",
       "      <td>Consumer Discretionary</td>\n",
       "      <td>Consumer Electronics</td>\n",
       "      <td>2009</td>\n",
       "      <td>22.000000</td>\n",
       "      <td>-0.041364</td>\n",
       "      <td>1.549999</td>\n",
       "    </tr>\n",
       "    <tr>\n",
       "      <th>GRMN</th>\n",
       "      <td>2009-01-07</td>\n",
       "      <td>20.610001</td>\n",
       "      <td>21.090000</td>\n",
       "      <td>20.200001</td>\n",
       "      <td>21.030001</td>\n",
       "      <td>12.317138</td>\n",
       "      <td>1432700</td>\n",
       "      <td>Consumer Discretionary</td>\n",
       "      <td>Consumer Electronics</td>\n",
       "      <td>2009</td>\n",
       "      <td>21.090000</td>\n",
       "      <td>-0.002845</td>\n",
       "      <td>0.889999</td>\n",
       "    </tr>\n",
       "    <tr>\n",
       "      <th>GRMN</th>\n",
       "      <td>2009-01-08</td>\n",
       "      <td>21.000000</td>\n",
       "      <td>21.350000</td>\n",
       "      <td>20.170000</td>\n",
       "      <td>21.030001</td>\n",
       "      <td>12.317138</td>\n",
       "      <td>1206500</td>\n",
       "      <td>Consumer Discretionary</td>\n",
       "      <td>Consumer Electronics</td>\n",
       "      <td>2009</td>\n",
       "      <td>21.030001</td>\n",
       "      <td>0.000000</td>\n",
       "      <td>1.180000</td>\n",
       "    </tr>\n",
       "    <tr>\n",
       "      <th>...</th>\n",
       "      <td>...</td>\n",
       "      <td>...</td>\n",
       "      <td>...</td>\n",
       "      <td>...</td>\n",
       "      <td>...</td>\n",
       "      <td>...</td>\n",
       "      <td>...</td>\n",
       "      <td>...</td>\n",
       "      <td>...</td>\n",
       "      <td>...</td>\n",
       "      <td>...</td>\n",
       "      <td>...</td>\n",
       "      <td>...</td>\n",
       "    </tr>\n",
       "    <tr>\n",
       "      <th>GILD</th>\n",
       "      <td>2018-12-24</td>\n",
       "      <td>62.470001</td>\n",
       "      <td>62.830002</td>\n",
       "      <td>60.470001</td>\n",
       "      <td>60.540001</td>\n",
       "      <td>48.376888</td>\n",
       "      <td>6162600</td>\n",
       "      <td>Health Care</td>\n",
       "      <td>Biotechnology</td>\n",
       "      <td>2018</td>\n",
       "      <td>62.619999</td>\n",
       "      <td>-0.033216</td>\n",
       "      <td>2.360001</td>\n",
       "    </tr>\n",
       "    <tr>\n",
       "      <th>GILD</th>\n",
       "      <td>2018-12-26</td>\n",
       "      <td>60.650002</td>\n",
       "      <td>63.230000</td>\n",
       "      <td>60.320000</td>\n",
       "      <td>63.220001</td>\n",
       "      <td>50.518440</td>\n",
       "      <td>8824400</td>\n",
       "      <td>Health Care</td>\n",
       "      <td>Biotechnology</td>\n",
       "      <td>2018</td>\n",
       "      <td>60.540001</td>\n",
       "      <td>0.044268</td>\n",
       "      <td>2.910000</td>\n",
       "    </tr>\n",
       "    <tr>\n",
       "      <th>GILD</th>\n",
       "      <td>2018-12-27</td>\n",
       "      <td>62.400002</td>\n",
       "      <td>63.020000</td>\n",
       "      <td>60.470001</td>\n",
       "      <td>62.939999</td>\n",
       "      <td>50.294697</td>\n",
       "      <td>9548200</td>\n",
       "      <td>Health Care</td>\n",
       "      <td>Biotechnology</td>\n",
       "      <td>2018</td>\n",
       "      <td>63.220001</td>\n",
       "      <td>-0.004429</td>\n",
       "      <td>2.549999</td>\n",
       "    </tr>\n",
       "    <tr>\n",
       "      <th>GILD</th>\n",
       "      <td>2018-12-28</td>\n",
       "      <td>62.810001</td>\n",
       "      <td>63.040001</td>\n",
       "      <td>61.669998</td>\n",
       "      <td>61.880001</td>\n",
       "      <td>49.447666</td>\n",
       "      <td>6785400</td>\n",
       "      <td>Health Care</td>\n",
       "      <td>Biotechnology</td>\n",
       "      <td>2018</td>\n",
       "      <td>62.939999</td>\n",
       "      <td>-0.016841</td>\n",
       "      <td>1.370003</td>\n",
       "    </tr>\n",
       "    <tr>\n",
       "      <th>GILD</th>\n",
       "      <td>2018-12-31</td>\n",
       "      <td>62.000000</td>\n",
       "      <td>63.070000</td>\n",
       "      <td>61.580002</td>\n",
       "      <td>62.549999</td>\n",
       "      <td>49.983047</td>\n",
       "      <td>7584000</td>\n",
       "      <td>Health Care</td>\n",
       "      <td>Biotechnology</td>\n",
       "      <td>2018</td>\n",
       "      <td>61.880001</td>\n",
       "      <td>0.010827</td>\n",
       "      <td>1.489998</td>\n",
       "    </tr>\n",
       "  </tbody>\n",
       "</table>\n",
       "<p>764682 rows × 13 columns</p>\n",
       "</div>"
      ],
      "text/plain": [
       "             Date       Open       High        Low      Close  Adj Close  \\\n",
       "ticker                                                                     \n",
       "GRMN   2009-01-02  19.000000  22.000000  19.000000  21.770000  12.750558   \n",
       "GRMN   2009-01-05  20.830000  22.040001  20.750000  22.000000  12.885260   \n",
       "GRMN   2009-01-06  20.500000  21.250000  19.700001  21.090000  12.352277   \n",
       "GRMN   2009-01-07  20.610001  21.090000  20.200001  21.030001  12.317138   \n",
       "GRMN   2009-01-08  21.000000  21.350000  20.170000  21.030001  12.317138   \n",
       "...           ...        ...        ...        ...        ...        ...   \n",
       "GILD   2018-12-24  62.470001  62.830002  60.470001  60.540001  48.376888   \n",
       "GILD   2018-12-26  60.650002  63.230000  60.320000  63.220001  50.518440   \n",
       "GILD   2018-12-27  62.400002  63.020000  60.470001  62.939999  50.294697   \n",
       "GILD   2018-12-28  62.810001  63.040001  61.669998  61.880001  49.447666   \n",
       "GILD   2018-12-31  62.000000  63.070000  61.580002  62.549999  49.983047   \n",
       "\n",
       "         Volume                  sector             subsector  year  \\\n",
       "ticker                                                                \n",
       "GRMN    1884800  Consumer Discretionary  Consumer Electronics  2009   \n",
       "GRMN    1897500  Consumer Discretionary  Consumer Electronics  2009   \n",
       "GRMN    3074400  Consumer Discretionary  Consumer Electronics  2009   \n",
       "GRMN    1432700  Consumer Discretionary  Consumer Electronics  2009   \n",
       "GRMN    1206500  Consumer Discretionary  Consumer Electronics  2009   \n",
       "...         ...                     ...                   ...   ...   \n",
       "GILD    6162600             Health Care         Biotechnology  2018   \n",
       "GILD    8824400             Health Care         Biotechnology  2018   \n",
       "GILD    9548200             Health Care         Biotechnology  2018   \n",
       "GILD    6785400             Health Care         Biotechnology  2018   \n",
       "GILD    7584000             Health Care         Biotechnology  2018   \n",
       "\n",
       "        Close_lag_1   returns  hi_lo_range  \n",
       "ticker                                      \n",
       "GRMN            NaN       NaN     3.000000  \n",
       "GRMN      21.770000  0.010565     1.290001  \n",
       "GRMN      22.000000 -0.041364     1.549999  \n",
       "GRMN      21.090000 -0.002845     0.889999  \n",
       "GRMN      21.030001  0.000000     1.180000  \n",
       "...             ...       ...          ...  \n",
       "GILD      62.619999 -0.033216     2.360001  \n",
       "GILD      60.540001  0.044268     2.910000  \n",
       "GILD      63.220001 -0.004429     2.549999  \n",
       "GILD      62.939999 -0.016841     1.370003  \n",
       "GILD      61.880001  0.010827     1.489998  \n",
       "\n",
       "[764682 rows x 13 columns]"
      ]
     },
     "execution_count": 20,
     "metadata": {},
     "output_type": "execute_result"
    }
   ],
   "source": [
    "dd_feat.compute()"
   ]
  },
  {
   "cell_type": "markdown",
   "metadata": {},
   "source": [
    "+ Convert the Dask data frame to a pandas data frame. \n",
    "+ Add a rolling average return calculation with a window of 10 days.\n",
    "+ *Tip*: Consider using `.rolling(10).mean()`.\n",
    "\n",
    "(3 pt)"
   ]
  },
  {
   "cell_type": "code",
   "execution_count": 21,
   "metadata": {},
   "outputs": [],
   "source": [
    "# Write your code below.\n",
    "\n",
    "dd_feat = dd_feat.compute()\n",
    "dd_feat['10dayrollingaverage'] = dd_feat['returns'].rolling(10).mean()"
   ]
  },
  {
   "cell_type": "markdown",
   "metadata": {},
   "source": [
    "Please comment:\n",
    "\n",
    "+ Was it necessary to convert to pandas to calculate the moving average return?\n",
    "+ Would it have been better to do it in Dask? Why?\n",
    "\n",
    "(1 pt)"
   ]
  },
  {
   "cell_type": "markdown",
   "metadata": {},
   "source": [
    "## Criteria\n",
    "\n",
    "|Criteria|Complete|Incomplete|\n",
    "|---------------------|----|----|\n",
    "|Calculations         |Calculations were done correctly.|Calculations were not done correctly.|\n",
    "|Explanation of answer|Answer was concise and explained the learner's reasoning in depth.|Answer was not concise and did not explained the learner's reasoning in depth.|"
   ]
  },
  {
   "cell_type": "markdown",
   "metadata": {},
   "source": [
    "## Submission Information\n",
    "\n",
    "🚨 **Please review our [Assignment Submission Guide](https://github.com/UofT-DSI/onboarding/blob/main/onboarding_documents/submissions.md)** 🚨 for detailed instructions on how to format, branch, and submit your work. Following these guidelines is crucial for your submissions to be evaluated correctly.\n",
    "\n",
    "### Submission Parameters:\n",
    "* Submission Due Date: `HH:MM AM/PM - DD/MM/YYYY`\n",
    "* The branch name for your repo should be: `assignment-1`\n",
    "* What to submit for this assignment:\n",
    "    * This Jupyter Notebook (assignment_1.ipynb) should be populated and should be the only change in your pull request.\n",
    "* What the pull request link should look like for this assignment: `https://github.com/<your_github_username>/production/pull/<pr_id>`\n",
    "    * Open a private window in your browser. Copy and paste the link to your pull request into the address bar. Make sure you can see your pull request properly. This helps the technical facilitator and learning support staff review your submission easily.\n",
    "\n",
    "Checklist:\n",
    "- [ ] Created a branch with the correct naming convention.\n",
    "- [ ] Ensured that the repository is public.\n",
    "- [ ] Reviewed the PR description guidelines and adhered to them.\n",
    "- [ ] Verify that the link is accessible in a private browser window.\n",
    "\n",
    "If you encounter any difficulties or have questions, please don't hesitate to reach out to our team via our Slack at `#cohort-3-help`. Our Technical Facilitators and Learning Support staff are here to help you navigate any challenges."
   ]
  }
 ],
 "metadata": {
  "kernelspec": {
   "display_name": "env",
   "language": "python",
   "name": "python3"
  },
  "language_info": {
   "codemirror_mode": {
    "name": "ipython",
    "version": 3
   },
   "file_extension": ".py",
   "mimetype": "text/x-python",
   "name": "python",
   "nbconvert_exporter": "python",
   "pygments_lexer": "ipython3",
   "version": "3.9.15"
  }
 },
 "nbformat": 4,
 "nbformat_minor": 2
}
