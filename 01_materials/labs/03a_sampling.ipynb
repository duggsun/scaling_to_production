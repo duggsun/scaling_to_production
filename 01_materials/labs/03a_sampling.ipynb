{
 "cells": [
  {
   "cell_type": "code",
   "execution_count": 1,
   "metadata": {},
   "outputs": [],
   "source": [
    "%load_ext dotenv\n",
    "%dotenv \n",
    "import os\n",
    "import sys\n",
    "sys.path.append(os.getenv('SRC_DIR'))\n",
    "from logger import get_logger\n",
    "_logs = get_logger(__name__)"
   ]
  },
  {
   "cell_type": "code",
   "execution_count": 2,
   "metadata": {},
   "outputs": [
    {
     "name": "stderr",
     "output_type": "stream",
     "text": [
      "c:\\Users\\dugga\\miniconda3\\envs\\dsi_participant\\lib\\site-packages\\dask\\dataframe\\_pyarrow_compat.py:17: FutureWarning: Minimal version of pyarrow will soon be increased to 14.0.1. You are using 11.0.0. Please consider upgrading.\n",
      "  warnings.warn(\n",
      "C:\\Users\\dugga\\AppData\\Local\\Temp\\ipykernel_3984\\1500862777.py:1: DeprecationWarning: The current Dask DataFrame implementation is deprecated. \n",
      "In a future release, Dask DataFrame will use new implementation that\n",
      "contains several improvements including a logical query planning.\n",
      "The user-facing DataFrame API will remain unchanged.\n",
      "\n",
      "The new implementation is already available and can be enabled by\n",
      "installing the dask-expr library:\n",
      "\n",
      "    $ pip install dask-expr\n",
      "\n",
      "and turning the query planning option on:\n",
      "\n",
      "    >>> import dask\n",
      "    >>> dask.config.set({'dataframe.query-planning': True})\n",
      "    >>> import dask.dataframe as dd\n",
      "\n",
      "API documentation for the new implementation is available at\n",
      "https://docs.dask.org/en/stable/dask-expr-api.html\n",
      "\n",
      "Any feedback can be reported on the Dask issue tracker\n",
      "https://github.com/dask/dask/issues \n",
      "\n",
      "  import dask.dataframe as dd\n"
     ]
    }
   ],
   "source": [
    "import dask.dataframe as dd\n",
    "import pandas as pd\n",
    "import numpy as np\n",
    "import os\n",
    "from glob import glob"
   ]
  },
  {
   "cell_type": "code",
   "execution_count": 3,
   "metadata": {},
   "outputs": [],
   "source": [
    "ft_dir = os.getenv(\"FEATURES_DATA\")\n",
    "ft_glob = glob(ft_dir+'/*.parquet')\n",
    "df = dd.read_parquet(ft_glob).compute().reset_index()"
   ]
  },
  {
   "cell_type": "markdown",
   "metadata": {},
   "source": [
    "# Sampling in Python"
   ]
  },
  {
   "cell_type": "markdown",
   "metadata": {},
   "source": [
    "+ There are different packages that allow sampling.\n",
    "+ A practical approach is to use pandas/Dask sampling methods."
   ]
  },
  {
   "cell_type": "markdown",
   "metadata": {},
   "source": [
    "## Random Sampling\n",
    "\n",
    "+ Sample n rows from a dataframe with [`df.sample()`](https://pandas.pydata.org/docs/reference/api/pandas.DataFrame.sample.html).\n",
    "\n",
    "```\n",
    "DataFrame.sample(\n",
    "    n=None, frac=None, replace=False, weights=None, \n",
    "    random_state=None, axis=None, ignore_index=False\n",
    "    )\n",
    "```"
   ]
  },
  {
   "cell_type": "code",
   "execution_count": 4,
   "metadata": {},
   "outputs": [
    {
     "data": {
      "text/html": [
       "<div>\n",
       "<style scoped>\n",
       "    .dataframe tbody tr th:only-of-type {\n",
       "        vertical-align: middle;\n",
       "    }\n",
       "\n",
       "    .dataframe tbody tr th {\n",
       "        vertical-align: top;\n",
       "    }\n",
       "\n",
       "    .dataframe thead th {\n",
       "        text-align: right;\n",
       "    }\n",
       "</style>\n",
       "<table border=\"1\" class=\"dataframe\">\n",
       "  <thead>\n",
       "    <tr style=\"text-align: right;\">\n",
       "      <th></th>\n",
       "      <th>ticker</th>\n",
       "      <th>Date</th>\n",
       "      <th>Open</th>\n",
       "      <th>High</th>\n",
       "      <th>Low</th>\n",
       "      <th>Close</th>\n",
       "      <th>Adj Close</th>\n",
       "      <th>Volume</th>\n",
       "      <th>sector</th>\n",
       "      <th>subsector</th>\n",
       "      <th>year</th>\n",
       "      <th>Close_lag_1</th>\n",
       "      <th>returns</th>\n",
       "      <th>positive_return</th>\n",
       "      <th>target</th>\n",
       "    </tr>\n",
       "  </thead>\n",
       "  <tbody>\n",
       "    <tr>\n",
       "      <th>2540439</th>\n",
       "      <td>UBER</td>\n",
       "      <td>2022-05-19</td>\n",
       "      <td>22.290001</td>\n",
       "      <td>23.809999</td>\n",
       "      <td>22.200001</td>\n",
       "      <td>23.240000</td>\n",
       "      <td>23.240000</td>\n",
       "      <td>36461200</td>\n",
       "      <td>Industrials</td>\n",
       "      <td>Passenger Ground Transportation</td>\n",
       "      <td>2022</td>\n",
       "      <td>22.459999</td>\n",
       "      <td>0.034728</td>\n",
       "      <td>1</td>\n",
       "      <td>1.0</td>\n",
       "    </tr>\n",
       "    <tr>\n",
       "      <th>1314505</th>\n",
       "      <td>RJF</td>\n",
       "      <td>2000-03-16</td>\n",
       "      <td>5.666667</td>\n",
       "      <td>5.981481</td>\n",
       "      <td>5.666667</td>\n",
       "      <td>5.944444</td>\n",
       "      <td>4.218063</td>\n",
       "      <td>657788</td>\n",
       "      <td>Financials</td>\n",
       "      <td>Investment Banking &amp; Brokerage</td>\n",
       "      <td>2000</td>\n",
       "      <td>5.574074</td>\n",
       "      <td>0.066445</td>\n",
       "      <td>1</td>\n",
       "      <td>0.0</td>\n",
       "    </tr>\n",
       "    <tr>\n",
       "      <th>1799990</th>\n",
       "      <td>JKHY</td>\n",
       "      <td>2014-06-18</td>\n",
       "      <td>59.430000</td>\n",
       "      <td>59.619999</td>\n",
       "      <td>58.910000</td>\n",
       "      <td>59.470001</td>\n",
       "      <td>52.629787</td>\n",
       "      <td>335100</td>\n",
       "      <td>Financials</td>\n",
       "      <td>Transaction &amp; Payment Processing Services</td>\n",
       "      <td>2014</td>\n",
       "      <td>59.470001</td>\n",
       "      <td>0.000000</td>\n",
       "      <td>0</td>\n",
       "      <td>0.0</td>\n",
       "    </tr>\n",
       "    <tr>\n",
       "      <th>534661</th>\n",
       "      <td>TXT</td>\n",
       "      <td>2002-06-17</td>\n",
       "      <td>22.650000</td>\n",
       "      <td>22.995001</td>\n",
       "      <td>22.650000</td>\n",
       "      <td>22.924999</td>\n",
       "      <td>18.956179</td>\n",
       "      <td>890400</td>\n",
       "      <td>Industrials</td>\n",
       "      <td>Aerospace &amp; Defense</td>\n",
       "      <td>2002</td>\n",
       "      <td>22.584999</td>\n",
       "      <td>0.015054</td>\n",
       "      <td>1</td>\n",
       "      <td>1.0</td>\n",
       "    </tr>\n",
       "    <tr>\n",
       "      <th>1536732</th>\n",
       "      <td>LEN</td>\n",
       "      <td>2017-10-18</td>\n",
       "      <td>55.024582</td>\n",
       "      <td>55.506390</td>\n",
       "      <td>54.867256</td>\n",
       "      <td>55.329399</td>\n",
       "      <td>51.857658</td>\n",
       "      <td>4306080</td>\n",
       "      <td>Consumer Discretionary</td>\n",
       "      <td>Homebuilding</td>\n",
       "      <td>2017</td>\n",
       "      <td>55.034416</td>\n",
       "      <td>0.005360</td>\n",
       "      <td>1</td>\n",
       "      <td>1.0</td>\n",
       "    </tr>\n",
       "  </tbody>\n",
       "</table>\n",
       "</div>"
      ],
      "text/plain": [
       "        ticker       Date       Open       High        Low      Close  \\\n",
       "2540439   UBER 2022-05-19  22.290001  23.809999  22.200001  23.240000   \n",
       "1314505    RJF 2000-03-16   5.666667   5.981481   5.666667   5.944444   \n",
       "1799990   JKHY 2014-06-18  59.430000  59.619999  58.910000  59.470001   \n",
       "534661     TXT 2002-06-17  22.650000  22.995001  22.650000  22.924999   \n",
       "1536732    LEN 2017-10-18  55.024582  55.506390  54.867256  55.329399   \n",
       "\n",
       "         Adj Close    Volume                  sector  \\\n",
       "2540439  23.240000  36461200             Industrials   \n",
       "1314505   4.218063    657788              Financials   \n",
       "1799990  52.629787    335100              Financials   \n",
       "534661   18.956179    890400             Industrials   \n",
       "1536732  51.857658   4306080  Consumer Discretionary   \n",
       "\n",
       "                                         subsector  year  Close_lag_1  \\\n",
       "2540439            Passenger Ground Transportation  2022    22.459999   \n",
       "1314505             Investment Banking & Brokerage  2000     5.574074   \n",
       "1799990  Transaction & Payment Processing Services  2014    59.470001   \n",
       "534661                         Aerospace & Defense  2002    22.584999   \n",
       "1536732                               Homebuilding  2017    55.034416   \n",
       "\n",
       "          returns  positive_return  target  \n",
       "2540439  0.034728                1     1.0  \n",
       "1314505  0.066445                1     0.0  \n",
       "1799990  0.000000                0     0.0  \n",
       "534661   0.015054                1     1.0  \n",
       "1536732  0.005360                1     1.0  "
      ]
     },
     "execution_count": 4,
     "metadata": {},
     "output_type": "execute_result"
    }
   ],
   "source": [
    "df.sample(n = 5)"
   ]
  },
  {
   "cell_type": "code",
   "execution_count": 5,
   "metadata": {},
   "outputs": [
    {
     "data": {
      "text/plain": [
       "['OXY', 'TXN', 'PCG', 'CBRE', 'ROK', 'AMT', 'D', 'YUM', 'PWR']"
      ]
     },
     "execution_count": 5,
     "metadata": {},
     "output_type": "execute_result"
    }
   ],
   "source": [
    "# select_tickers = df['ticker'].unique().tolist()[0:9]\n",
    "select_tickers = ['OXY', 'TXN', 'PCG', 'CBRE', 'ROK', 'AMT', 'D', 'YUM', 'PWR']\n",
    "select_tickers"
   ]
  },
  {
   "cell_type": "code",
   "execution_count": 6,
   "metadata": {},
   "outputs": [
    {
     "data": {
      "text/plain": [
       "((5434, 15), (54335, 15))"
      ]
     },
     "execution_count": 6,
     "metadata": {},
     "output_type": "execute_result"
    }
   ],
   "source": [
    "idx = df['ticker'].isin(select_tickers)\n",
    "small_df = df[idx]\n",
    "simple_sample_dt = small_df.sample(frac = 0.1)\n",
    "simple_sample_dt.shape, small_df.shape"
   ]
  },
  {
   "cell_type": "markdown",
   "metadata": {},
   "source": [
    "Look at the distribution of tickers."
   ]
  },
  {
   "cell_type": "code",
   "execution_count": 7,
   "metadata": {},
   "outputs": [
    {
     "data": {
      "text/plain": [
       "<Axes: xlabel='ticker'>"
      ]
     },
     "execution_count": 7,
     "metadata": {},
     "output_type": "execute_result"
    },
    {
     "data": {
      "image/png": "[encoded data removed]",
      "text/plain": [
       "<Figure size 640x480 with 1 Axes>"
      ]
     },
     "metadata": {},
     "output_type": "display_data"
    }
   ],
   "source": [
    "small_df['ticker'].value_counts().plot(kind='bar')"
   ]
  },
  {
   "cell_type": "code",
   "execution_count": 8,
   "metadata": {},
   "outputs": [
    {
     "data": {
      "text/plain": [
       "<Axes: xlabel='ticker'>"
      ]
     },
     "execution_count": 8,
     "metadata": {},
     "output_type": "execute_result"
    },
    {
     "data": {
      "image/png": "[encoded data removed]",
      "text/plain": [
       "<Figure size 640x480 with 1 Axes>"
      ]
     },
     "metadata": {},
     "output_type": "display_data"
    }
   ],
   "source": [
    "simple_sample_dt['ticker'].value_counts().plot(kind='bar')"
   ]
  },
  {
   "cell_type": "markdown",
   "metadata": {},
   "source": [
    "## Stratified Sampling\n",
    "\n",
    "+ Use `groupby()` and `.sample()` for stratified sampling."
   ]
  },
  {
   "cell_type": "code",
   "execution_count": 9,
   "metadata": {},
   "outputs": [
    {
     "data": {
      "text/plain": [
       "<Axes: xlabel='ticker'>"
      ]
     },
     "execution_count": 9,
     "metadata": {},
     "output_type": "execute_result"
    },
    {
     "data": {
      "image/png": "[encoded data removed]",
      "text/plain": [
       "<Figure size 640x480 with 1 Axes>"
      ]
     },
     "metadata": {},
     "output_type": "display_data"
    }
   ],
   "source": [
    "strat_sample_dt = small_df.groupby(['ticker']).sample(frac = 0.1)\n",
    "strat_sample_dt['ticker'].value_counts().plot(kind='bar')"
   ]
  },
  {
   "cell_type": "markdown",
   "metadata": {},
   "source": [
    "# Sampling in Dask\n",
    "\n",
    "+ Stratified sampling in `dask` can be achieved with `groupby().apply()` and a lambda function."
   ]
  },
  {
   "cell_type": "code",
   "execution_count": 10,
   "metadata": {},
   "outputs": [
    {
     "name": "stderr",
     "output_type": "stream",
     "text": [
      "C:\\Users\\dugga\\AppData\\Local\\Temp\\ipykernel_3984\\2932236319.py:2: UserWarning: `meta` is not specified, inferred from partial data. Please provide `meta` if the result is unexpected.\n",
      "  Before: .apply(func)\n",
      "  After:  .apply(func, meta={'x': 'f8', 'y': 'f8'}) for dataframe result\n",
      "  or:     .apply(func, meta=('x', 'f8'))            for series result\n",
      "  strat_sample_dd_dt = (dd_dt\n"
     ]
    },
    {
     "data": {
      "text/plain": [
       "<Axes: xlabel='ticker'>"
      ]
     },
     "execution_count": 10,
     "metadata": {},
     "output_type": "execute_result"
    },
    {
     "data": {
      "image/png": "[encoded data removed]",
      "text/plain": [
       "<Figure size 640x480 with 1 Axes>"
      ]
     },
     "metadata": {},
     "output_type": "display_data"
    }
   ],
   "source": [
    "dd_dt = dd.read_parquet(ft_glob)\n",
    "strat_sample_dd_dt = (dd_dt\n",
    "                      .groupby('ticker', group_keys=False)\n",
    "                      .apply(lambda x: x.sample(frac = 0.1))\n",
    "                      .compute()\n",
    "                      .reset_index())\n",
    "strat_sample_dd_dt[strat_sample_dd_dt['ticker'].isin(select_tickers)]['ticker'].value_counts().plot(kind='bar')"
   ]
  }
 ],
 "metadata": {
  "kernelspec": {
   "display_name": "env",
   "language": "python",
   "name": "python3"
  },
  "language_info": {
   "codemirror_mode": {
    "name": "ipython",
    "version": 3
   },
   "file_extension": ".py",
   "mimetype": "text/x-python",
   "name": "python",
   "nbconvert_exporter": "python",
   "pygments_lexer": "ipython3",
   "version": "3.9.15"
  }
 },
 "nbformat": 4,
 "nbformat_minor": 2
}
